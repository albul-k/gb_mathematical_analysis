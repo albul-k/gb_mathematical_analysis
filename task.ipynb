{
 "metadata": {
  "language_info": {
   "codemirror_mode": {
    "name": "ipython",
    "version": 3
   },
   "file_extension": ".py",
   "mimetype": "text/x-python",
   "name": "python",
   "nbconvert_exporter": "python",
   "pygments_lexer": "ipython3",
   "version": 3
  },
  "orig_nbformat": 2
 },
 "nbformat": 4,
 "nbformat_minor": 2,
 "cells": [
  {
   "source": [
    "- Исследовать ряд на сходимость, используя признак д’Аламбера\n",
    "$$ \\sum_{n=1}^{\\infty} \\frac{n^n}{(n!)^2} $$\n",
    "$$ \\lim_{n \\to \\infty} \\frac{\\frac{(n+1)^{n+1}}{((n+1)!)^2}}{\\frac{n^n}{(n!)^2}} = \\frac{(n!)^2*(n+1)^{n+1}}{((n+1)!)^2(n^n)}=0 $$\n",
    "Ряд сходится, тк q<1"
   ],
   "cell_type": "markdown",
   "metadata": {}
  },
  {
   "source": [
    "- Исследовать ряд на сходимость, используя радикальный признак Коши\n",
    "$$ \\sum_{n=1}^{\\infty} \\frac{n}{2^n} $$\n",
    "$$ \\lim_{n \\to +\\infty} \\sqrt[n]{\\frac{n}{2^n}} = 0 $$\n",
    "Ряд сходится, q<1"
   ],
   "cell_type": "markdown",
   "metadata": {}
  },
  {
   "source": [
    "- Исследовать ряд на сходимость, используя признак Лейбница\n",
    "$$ \\sum_{n=1}^{\\infty} \\frac{(-1)^2}{n+ln(n)} $$\n",
    "$$ \\lim_{n \\to \\infty} \\frac{(-1)^2}{n+ln(n)} = 0 $$\n",
    "$$ \\frac{1}{1+ln(1)} \\geq \\frac{1}{2+ln(2)} $$\n",
    "Ряд сходится абсолютно"
   ],
   "cell_type": "markdown",
   "metadata": {}
  },
  {
   "source": [
    "- Исследовать ряд на сходимость, используя признак Раабе\n",
    "$$ \\sum_{n=1}^{\\infty} \\frac{3^n}{2^n} $$\n",
    "$$ \\lim_{n \\to \\infty} (n(\\frac{\\frac{3^n}{2^n}}{\\frac{3^{n+1}}{2^{n+1}}} - 1)) = n(\\frac{3^n*2^{n+1}}{2^n*3^{n+1}} - 1) = n(1 - 1) = 0 $$\n",
    "Ряд расходится, D<1"
   ],
   "cell_type": "markdown",
   "metadata": {}
  },
  {
   "source": [
    "- Разложить функцию по Тейлору в единице\n",
    "f(x) = ln(16x^2)\n",
    "$$ ln(16x^2) = \\frac{ln(16)}{0!}(x-1)^0 + \\frac{32x}{16x^2}*\\frac{1}{1!}(x-1)^1 + 2*(-\\frac{1}{x^2})*\\frac{1}{2!}*(x-1)^2 + ... = $$\n",
    "$$ = \\frac{2}{x}(x-1) - \\frac{2}{x^2*2!}*(x-1)^2 + \\frac{2}{x^3*3!}*(x-1)^3 - ... = \\sum_{n=0}^{\\infty}(-1)^n\\frac{2(x-1)^{n+1}}{x^{n+1}*(n+1)!}$$"
   ],
   "cell_type": "markdown",
   "metadata": {}
  }
 ]
}