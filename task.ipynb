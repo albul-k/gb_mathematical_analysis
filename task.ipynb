{
 "metadata": {
  "language_info": {
   "codemirror_mode": {
    "name": "ipython",
    "version": 3
   },
   "file_extension": ".py",
   "mimetype": "text/x-python",
   "name": "python",
   "nbconvert_exporter": "python",
   "pygments_lexer": "ipython3",
   "version": 3
  },
  "orig_nbformat": 2
 },
 "nbformat": 4,
 "nbformat_minor": 2,
 "cells": [
  {
   "source": [
    "## Функция нескольких переменных"
   ],
   "cell_type": "markdown",
   "metadata": {}
  },
  {
   "source": [
    "Исследовать функцию на условный экстремум\n",
    "\n",
    "1. $$ U = 3-8x + 6y,\\ x^2+y^2 = 36 $$\n",
    "$$ L(\\lambda_1,x,y) = 3-8x + 6y + \\lambda_1*(x^2+y^2-36) $$\n",
    "$$ f(n) =\n",
    "  \\begin{cases}\n",
    "    L_x' = -8 + \\lambda_1*2x = 0\\\\\n",
    "    L_y' = 6 + \\lambda_1*2y = 0\\\\\n",
    "    L_{\\lambda_1}' = x^2+y^2-36 = 0\n",
    "  \\end{cases}\n",
    "  \\implies\n",
    "  \\begin{cases}\n",
    "    x = \\frac{4}{\\lambda_1}\\\\\n",
    "    y = -\\frac{3}{\\lambda_1}\\\\\n",
    "    \\frac{16}{\\lambda_1^2}+\\frac{9}{\\lambda_1^2}=36\n",
    "  \\end{cases}\n",
    "  \\implies\n",
    "    \\begin{cases}\n",
    "    x = \\frac{4}{\\lambda_1}\\\\\n",
    "    y = -\\frac{3}{\\lambda_1}\\\\\n",
    "    \\lambda_1 = \\frac{5}{6}\n",
    "  \\end{cases}\n",
    "$$\n",
    "$$ (\\frac{5}{6}, \\frac{24}{5}, -\\frac{18}{5}),\\ (-\\frac{5}{6}, -\\frac{24}{5}, +\\frac{18}{5}) $$"
   ],
   "cell_type": "markdown",
   "metadata": {}
  },
  {
   "source": [
    "2. $$ U = 2x^2 + 12xy + 32y^2 + 15,\\ x^2+16y^2=64 $$\n",
    "$$ L(\\lambda_1,x,y) = 2x^2 + 12xy + 32y^2 + 15 + \\lambda_1*(x^2+16y^2-64) $$\n",
    "$$ f(n) =\n",
    "  \\begin{cases}\n",
    "    L_x' = 4x + 12 + \\lambda_1*2x = 0\\\\\n",
    "    L_y' = 12 + 64y + \\lambda_1*32y = 0\\\\\n",
    "    L_{\\lambda_1}' = x^2+16y^2-64 = 0\n",
    "  \\end{cases}\n",
    "  \\implies\n",
    "  \\begin{cases}\n",
    "    x = -\\frac{6}{2+\\lambda_1}\\\\\n",
    "    y = -\\frac{3}{8(2+\\lambda_1)}\\\\\n",
    "    (-\\frac{6}{2+\\lambda_1})^2+(-\\frac{3}{8(2+\\lambda_1)})^2=64\n",
    "  \\end{cases}\n",
    "  \\implies\n",
    "    \\begin{cases}\n",
    "    x = -\\frac{6}{2+\\lambda_1}\\\\\n",
    "    y = -\\frac{3}{8(2+\\lambda_1)}\\\\\n",
    "    \\lambda_1 = \\frac{3\\sqrt{257}}{64}-2\n",
    "  \\end{cases}\n",
    "$$\n",
    "$$ (\\frac{3\\sqrt{257}}{64}-2, -\\frac{128}{\\sqrt{257}}, -\\frac{8}{\\sqrt{257}}) $$"
   ],
   "cell_type": "markdown",
   "metadata": {}
  },
  {
   "source": [
    "3. $$ Найти\\ производную\\ функции\\ U = x^2+y^2+z^2\\ по\\ направлению\\ вектора\\ c(-9, 8, -12)\\ в\\ точку\\ M(8;-12;9) $$"
   ],
   "cell_type": "markdown",
   "metadata": {}
  },
  {
   "source": [
    "4. $$ Найти\\ производную\\ функции\\ U = e^{x^2+y^2+z^2}\\ по\\ направлению\\ вектора\\ d(4, -13, -16)\\ в\\ точку\\ L(-16; 4; -13) $$"
   ],
   "cell_type": "markdown",
   "metadata": {}
  }
 ]
}