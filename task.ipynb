{
 "metadata": {
  "language_info": {
   "codemirror_mode": {
    "name": "ipython",
    "version": 3
   },
   "file_extension": ".py",
   "mimetype": "text/x-python",
   "name": "python",
   "nbconvert_exporter": "python",
   "pygments_lexer": "ipython3",
   "version": 3
  },
  "orig_nbformat": 2
 },
 "nbformat": 4,
 "nbformat_minor": 2,
 "cells": [
  {
   "source": [
    "## Тема 8 “Понятие об интеграле”"
   ],
   "cell_type": "markdown",
   "metadata": {}
  },
  {
   "source": [
    "1. Найти неопределенный интеграл\n",
    "$$ \\int (2x^2 - 2x -1 + sin x - cos x + ln(x) + e^x)dx = \\frac{2}{3}*x^3 - x^2 - x - cos x + sin x + \\int ln(x)dx + e^x + C $$\n",
    "$$ \\int ln(x)dx$$\n",
    "$$ u=ln(x) \\implies du=\\frac{dx}{x}$$\n",
    "$$ dv=dx \\implies v=x$$\n",
    "$$ \\int ln(x)dx = xln(x) - \\int dx = xln(x) - x + C $$\n",
    "$$ \\int (2x^2 - 2x -1 + sin x - cos x + ln x + e^x)dx = \\frac{2}{3}*x^3 - x^2 - 2x - cos x + sin x + xln(x) + e^x + C $$"
   ],
   "cell_type": "markdown",
   "metadata": {}
  },
  {
   "source": [
    "2. Найти неопределенный интеграл\n",
    "$$ \\int (2x + 6xz^2 - 5x^2y - 3ln z)dx = x^2 + 3x^2z^2 - \\frac{5}{3}x^3y - 3xlnz + C $$"
   ],
   "cell_type": "markdown",
   "metadata": {}
  },
  {
   "source": [
    "3. Вычислить определенный интеграл\n",
    "$$ \\int_0^\\pi 3x^2sin(2x)dx = \\frac{1}{2} \\int_0^\\pi 3x^2sin(2x)d(2x) $$\n",
    "$$ U = 3x^2 \\implies dU = 6x $$\n",
    "$$ dV = sin(2x)d(2x) \\implies V = -cos(2x) $$\n",
    "$$ \\frac{1}{2} \\int_0^\\pi 3x^2sin(2x)d(2x) = \\frac{1}{2} * (-3x^2 cos(2x) + \\int cos(2x) d(6x)) = \\frac{1}{2} * (-3x^2 cos(2x) + 3\\int cos(2x) d(2x)) = \\frac{1}{2} * (-3x^2 cos(2x) + 3sin(2x)) $$\n",
    "$$ \\frac{1}{2} \\int_0^\\pi 3x^2sin(2x)d(2x) = \\frac{3}{2} sin(2x) - \\frac{3}{2} x^2 cos(2x) + C $$\n",
    "$$ \\left.\\frac{3}{2} sin(2x) - \\frac{3}{2} x^2 cos(2x)\\right|_0^\\pi = \\frac{3}{2} sin(2\\pi) - \\frac{3}{2} \\pi^2 cos(2\\pi) - (\\frac{3}{2} sin(0) - \\frac{3}{2} * 0 * cos(0)) = \\frac{3}{2} * 0 - \\frac{3}{2} \\pi^2 * 1 - (\\frac{3}{2} * 0 - 0) = -\\frac{3}{2} \\pi^2 $$"
   ],
   "cell_type": "markdown",
   "metadata": {}
  },
  {
   "source": [
    "4. Найти неопределенный интеграл\n",
    "$$ \\int \\frac{1}{\\sqrt{x+1}} dx = \\int \\frac{1}{\\sqrt{u}} du = \\int 2dt = 2t = 2 \\sqrt{u} = 2\\sqrt{x+1} + C$$\n",
    "$$ u = x + 1 \\implies du = dx $$\n",
    "$$ t = \\sqrt{u} \\implies dt = \\frac{1}{2\\sqrt{u}} du \\implies 2dt = \\frac{1}{\\sqrt{u}} du $$"
   ],
   "cell_type": "markdown",
   "metadata": {}
  },
  {
   "cell_type": "code",
   "execution_count": null,
   "metadata": {},
   "outputs": [],
   "source": []
  }
 ]
}