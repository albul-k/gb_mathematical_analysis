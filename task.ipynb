{
 "metadata": {
  "language_info": {
   "codemirror_mode": {
    "name": "ipython",
    "version": 3
   },
   "file_extension": ".py",
   "mimetype": "text/x-python",
   "name": "python",
   "nbconvert_exporter": "python",
   "pygments_lexer": "ipython3",
   "version": 3
  },
  "orig_nbformat": 2
 },
 "nbformat": 4,
 "nbformat_minor": 2,
 "cells": [
  {
   "source": [
    "## Функция нескольких переменных"
   ],
   "cell_type": "markdown",
   "metadata": {}
  },
  {
   "source": [
    "Исследовать функцию на условный экстремум\n",
    "\n",
    "1. $$ U = 3-8x + 6y,\\ x^2+y^2 = 36 $$\n",
    "$$ L(\\lambda_1,x,y) = 3-8x + 6y + \\lambda_1*(x^2+y^2-36) $$\n",
    "$$ f(n) =\n",
    "  \\begin{cases}\n",
    "    L_x' = -8 + \\lambda_1*2x = 0\\\\\n",
    "    L_y' = 6 + \\lambda_1*2y = 0\\\\\n",
    "    L_{\\lambda_1}' = x^2+y^2-36 = 0\n",
    "  \\end{cases}\n",
    "  \\implies\n",
    "  \\begin{cases}\n",
    "    x = \\frac{4}{\\lambda_1}\\\\\n",
    "    y = -\\frac{3}{\\lambda_1}\\\\\n",
    "    \\frac{16}{\\lambda_1^2}+\\frac{9}{\\lambda_1^2}=36\n",
    "  \\end{cases}\n",
    "  \\implies\n",
    "    \\begin{cases}\n",
    "    x = \\frac{4}{\\lambda_1}\\\\\n",
    "    y = -\\frac{3}{\\lambda_1}\\\\\n",
    "    \\lambda_1 = \\frac{5}{6}\n",
    "  \\end{cases}\n",
    "$$\n",
    "$$ (\\frac{5}{6}, \\frac{24}{5}, -\\frac{18}{5}),\\ (-\\frac{5}{6}, -\\frac{24}{5}, +\\frac{18}{5}) $$"
   ],
   "cell_type": "markdown",
   "metadata": {}
  },
  {
   "source": [
    "2. $$ U = 2x^2 + 12xy + 32y^2 + 15,\\ x^2+16y^2=64 $$\n",
    "$$ L(\\lambda_1,x,y) = 2x^2 + 12xy + 32y^2 + 15 + \\lambda_1*(x^2+16y^2-64) $$\n",
    "$$ f(n) =\n",
    "  \\begin{cases}\n",
    "    L_x' = 4x + 12 + \\lambda_1*2x = 0\\\\\n",
    "    L_y' = 12 + 64y + \\lambda_1*32y = 0\\\\\n",
    "    L_{\\lambda_1}' = x^2+16y^2-64 = 0\n",
    "  \\end{cases}\n",
    "  \\implies\n",
    "  \\begin{cases}\n",
    "    x = -\\frac{6}{2+\\lambda_1}\\\\\n",
    "    y = -\\frac{3}{8(2+\\lambda_1)}\\\\\n",
    "    (-\\frac{6}{2+\\lambda_1})^2+(-\\frac{3}{8(2+\\lambda_1)})^2=64\n",
    "  \\end{cases}\n",
    "  \\implies\n",
    "    \\begin{cases}\n",
    "    x = -\\frac{6}{2+\\lambda_1}\\\\\n",
    "    y = -\\frac{3}{8(2+\\lambda_1)}\\\\\n",
    "    \\lambda_1 = \\frac{3\\sqrt{257}}{64}-2\n",
    "  \\end{cases}\n",
    "$$\n",
    "$$ (\\frac{3\\sqrt{257}}{64}-2, -\\frac{128}{\\sqrt{257}}, -\\frac{8}{\\sqrt{257}}) $$"
   ],
   "cell_type": "markdown",
   "metadata": {}
  },
  {
   "source": [
    "3. $$ Найти\\ производную\\ функции\\ U = x^2+y^2+z^2\\ по\\ направлению\\ вектора\\ c(-9, 8, -12)\\ в\\ точку\\ M(8;-12;9) $$\n",
    "$$ U_x' = 2x $$\n",
    "$$ U_y' = 2y $$\n",
    "$$ U_z' = 2z $$\n",
    "$$ grad\\ U_{(8;-12;9)} = (16; -24; 18) $$\n",
    "$$ \\overrightarrow{| c |} = \\sqrt{(-9)^2 + 8^2 + (-12)^2} = \\sqrt{81 + 64 + 144} = 17 $$\n",
    "$$ \\overrightarrow{| c_0 |} = \\frac{\\overrightarrow{c}}{\\overrightarrow{| c |}} = (-\\frac{9}{17},\\frac{8}{17},-\\frac{12}{17}) $$\n",
    "$$ U_\\overrightarrow{c}' = -\\frac{9}{17}*16 + \\frac{8}{17}*(-24) - \\frac{12}{17}*18 = \\frac{-144-192-216}{17} = -\\frac{552}{17}$$"
   ],
   "cell_type": "markdown",
   "metadata": {}
  },
  {
   "source": [
    "4. $$ Найти\\ производную\\ функции\\ U = e^{x^2+y^2+z^2}\\ по\\ направлению\\ вектора\\ d(4, -13, -16)\\ в\\ точку\\ L(-16; 4; -13) $$\n",
    "$$ U_x' = e^{x^2+y^2+z^2} * 2x $$\n",
    "$$ U_y' = e^{x^2+y^2+z^2} * 2y $$\n",
    "$$ U_z' = e^{x^2+y^2+z^2} * 2z $$\n",
    "$$ grad\\ U_{(-16; 4; -13)} = (-32e^{1156}; 8e^{1156}; -26e^{1156}) $$\n",
    "$$ \\overrightarrow{| d |} = \\sqrt{4^2 + (-13)^2 + (-16)^2} = \\sqrt{16 + 169 + 256} = 21 $$\n",
    "$$ \\overrightarrow{| d_0 |} = \\frac{\\overrightarrow{d}}{\\overrightarrow{| d |}} = (\\frac{4}{21},-\\frac{13}{21},-\\frac{16}{21}) $$\n",
    "$$ U_\\overrightarrow{d}' = -32e^{1156}*\\frac{4}{21} - 8e^{1156}*\\frac{13}{21} + 26e^{1156}*\\frac{16}{21} = \\frac{(-128-104+416)*e^{1156}}{21} = \\frac{184}{21}*e^{1156}$$"
   ],
   "cell_type": "markdown",
   "metadata": {}
  },
  {
   "source": [
    "Не уверен по заданию 4 - надо ли было при вычислении градиента подставлять все переменные или должно было получиться что-то типо:\n",
    "$$ grad\\ U_{(-16; 4; -13)} = (-32e^{256+y^2+z^2}...) $$"
   ],
   "cell_type": "markdown",
   "metadata": {}
  }
 ]
}