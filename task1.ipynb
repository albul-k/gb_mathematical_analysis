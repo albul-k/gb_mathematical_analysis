{
 "metadata": {
  "language_info": {
   "codemirror_mode": {
    "name": "ipython",
    "version": 3
   },
   "file_extension": ".py",
   "mimetype": "text/x-python",
   "name": "python",
   "nbconvert_exporter": "python",
   "pygments_lexer": "ipython3",
   "version": 3
  },
  "orig_nbformat": 2
 },
 "nbformat": 4,
 "nbformat_minor": 2,
 "cells": [
  {
   "source": [
    "## Тема “Введение в математических анализ”"
   ],
   "cell_type": "markdown",
   "metadata": {}
  },
  {
   "source": [
    "Как относятся друг к другу множество и последовательность? (в ответе использовать слова типа: часть, целое, общее, частное, родитель, дочерний субъект и т.д.)"
   ],
   "cell_type": "markdown",
   "metadata": {}
  },
  {
   "source": [
    "Последовательность — это отображение из множества целых чисел в конечное или бесконечное множество."
   ],
   "cell_type": "markdown",
   "metadata": {}
  }
 ]
}