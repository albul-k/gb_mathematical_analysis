{
 "metadata": {
  "language_info": {
   "codemirror_mode": {
    "name": "ipython",
    "version": 3
   },
   "file_extension": ".py",
   "mimetype": "text/x-python",
   "name": "python",
   "nbconvert_exporter": "python",
   "pygments_lexer": "ipython3",
   "version": "3.7.7-final"
  },
  "orig_nbformat": 2,
  "kernelspec": {
   "name": "python3",
   "display_name": "Python 3"
  }
 },
 "nbformat": 4,
 "nbformat_minor": 2,
 "cells": [
  {
   "source": [
    "# Тема “Введение в математических анализ”"
   ],
   "cell_type": "markdown",
   "metadata": {}
  },
  {
   "source": [
    "### Прочитать высказывания математической логики, построить их отрицания и установить истинность.\n",
    "\n",
    "![image info](./data/2020-11-22_13-55-12.png)\n"
   ],
   "cell_type": "markdown",
   "metadata": {}
  },
  {
   "source": [
    "1. Для любого y, принадлежащего интервалу от 0 включительно до 1 включительно, функция сигнум y будет равна 1\n",
    "$$ \\forall x \\in (-\\infty;0] : sgn(x) = 1 \\to ложь$$\n",
    "$$ \\exists x \\in (-\\infty;0] : sgn(x) \\neq 1 \\to истина$$"
   ],
   "cell_type": "markdown",
   "metadata": {}
  },
  {
   "source": [
    "2. Для любого n, принадлежащего множеству натуральных чисел больше 2, существуют такие x, y, z, принадлежащие множеству натуральных чисел, для которых сумма квадратов y и z равна квадрату x\n",
    "$$ \\forall n \\in N > 2 : \\exists x,y,z \\in N : x^n = y^n + z^n \\to ложь$$\n",
    "$$ \\exists n \\in N > 2 : \\exists x,y,z \\in N : x^n \\neq y^n + z^n \\to истина$$"
   ],
   "cell_type": "markdown",
   "metadata": {}
  },
  {
   "source": [
    "3. Для любого x, принадлежащего множеству рациональных чисел, существует подмножество X множества рациональных чисел, для которых X больше x\n",
    "$$ \\forall x \\in R \\exists X \\in R : X > x \\to истина $$\n",
    "$$ \\exists x \\in R \\exists X \\in R : X \\leq x \\to ложь $$"
   ],
   "cell_type": "markdown",
   "metadata": {}
  },
  {
   "source": [
    "4*. Для любого x, принадлежещего множеству комплексных чисел, не существует y, принадлежащего множеству комплексных чисел ...\n",
    "$$ \\forall x \\in C \\nexists y \\in C : x > y \\| x < y $$\n",
    "$$ \\exists x \\in C \\nexists y \\in C : x \\leq y \\| x \\geq y $$"
   ],
   "cell_type": "markdown",
   "metadata": {}
  },
  {
   "source": [
    "5. Для любого y, принадлежащего интервалу от 0 включительно до пи деленного пополам включительно, существует е(эпсилон) больше нуля, при которых синус от у меньше синуса суммы y и e\n",
    "$$ \\forall y \\in [0;\\frac{\\pi}{2}] \\exists \\epsilon > 0 : \\sin y < \\sin (y + \\epsilon) \\to ложь $$\n",
    "$$ \\exists y \\in [0;\\frac{\\pi}{2}] \\exists \\epsilon > 0 : \\sin y \\geq \\sin (y + \\epsilon) \\to истина $$"
   ],
   "cell_type": "markdown",
   "metadata": {}
  },
  {
   "source": [
    "6. Для любого y, принадлежащего интервалу от 0 включительно до пи включительно, существует е(эпсилон) больше нуля, при которых косинус от у больше косинуса суммы y и e\n",
    "$$ \\forall y \\in [0;\\pi] \\exists \\epsilon > 0 : \\cos y > \\cos (y + \\epsilon) \\to ложь$$\n",
    "$$ \\exists y \\in [0;\\pi] \\exists \\epsilon > 0 : \\cos y \\leq \\cos (y + \\epsilon) \\to истина $$"
   ],
   "cell_type": "markdown",
   "metadata": {}
  },
  {
   "source": [
    "7. Существует такой x, который не принадлежит множествам натуральных, целых, рациональных, вещественных и комплексных чисел\n",
    "$$ \\exists x : x \\notin \\{N,Z,Q,R,C\\} \\to ложь$$\n",
    "$$ \\forall x : x \\in \\{N,Z,Q,R,C\\} \\to истина$$"
   ],
   "cell_type": "markdown",
   "metadata": {}
  }
 ]
}