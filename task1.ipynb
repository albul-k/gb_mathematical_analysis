{
 "metadata": {
  "language_info": {
   "codemirror_mode": {
    "name": "ipython",
    "version": 3
   },
   "file_extension": ".py",
   "mimetype": "text/x-python",
   "name": "python",
   "nbconvert_exporter": "python",
   "pygments_lexer": "ipython3",
   "version": 3
  },
  "orig_nbformat": 2
 },
 "nbformat": 4,
 "nbformat_minor": 2,
 "cells": [
  {
   "source": [
    "## Тема “Предел функции”"
   ],
   "cell_type": "markdown",
   "metadata": {}
  },
  {
   "source": [
    "4. Найти предел\n",
    "$$ \\lim \\limits_{x \\to \\infty} \\bigg(\\frac{x+3}{x}\\bigg)^{4x+1} = \\lim \\limits_{x \\to \\infty}(1 + \\frac{3}{x})^{4x+1} = \\lim \\limits_{x \\to \\infty}(1 + \\frac{3}{x})^{(4x+1) \\frac{3}{x} \\frac{x}{3}} = e^{\\lim \\limits_{x \\to \\infty} \\frac{3}{x}(4x+1)} = e^{\\lim \\limits_{x \\to \\infty} \\frac{12x+3}{x}} = e^{12} $$"
   ],
   "cell_type": "markdown",
   "metadata": {}
  },
  {
   "source": [
    "## Тема “Теоремы о пределах”"
   ],
   "cell_type": "markdown",
   "metadata": {}
  },
  {
   "source": [
    "1. Найти предел\n",
    "$$ \\lim \\limits_{x \\to \\infty} \\bigg( \\frac{4x+3}{4x-3} \\bigg)^{6x} = \\lim \\limits_{x \\to \\infty} \\bigg( \\frac{4x-3+6}{4x-3} \\bigg)^{6x} = e^{\\lim \\limits_{x \\to \\infty}(\\frac{6}{4x-3}6x)} = e^\\frac{36}{4} = e^9$$\n",
    "$$ \\lim \\limits_{x \\to \\infty} \\frac{\\sin{x} + \\ln{x}}{x} = \\lim \\limits_{x \\to \\infty} (\\frac{\\sin{x}}{x} + \\frac{\\ln{x}}{x}) = 0 + 0 = 0$$\n",
    "$$ \\lim \\limits_{x \\to 0} \\frac{\\sin{x} + \\ln{x}}{x} = \\lim \\limits_{x \\to 0} (\\frac{\\sin{x}}{x} + \\frac{\\ln{x}}{x}) = 1 + (-\\infty) = -\\infty$$"
   ],
   "cell_type": "markdown",
   "metadata": {}
  }
 ]
}