{
 "metadata": {
  "language_info": {
   "codemirror_mode": {
    "name": "ipython",
    "version": 3
   },
   "file_extension": ".py",
   "mimetype": "text/x-python",
   "name": "python",
   "nbconvert_exporter": "python",
   "pygments_lexer": "ipython3",
   "version": 3
  },
  "orig_nbformat": 2
 },
 "nbformat": 4,
 "nbformat_minor": 2,
 "cells": [
  {
   "source": [
    "## Тема: Производные функций нескольких переменных"
   ],
   "cell_type": "markdown",
   "metadata": {}
  },
  {
   "source": [
    "*  Найти область определения функции\n",
    "$$ z=\\sqrt{1-x^3}+ln(y^2-1) $$\n",
    "$$ \\[ f(n) =\n",
    "  \\begin{cases}\n",
    "    1-x^3 \\geq 0 & \\\\\n",
    "    y^2-1 > 0  & \n",
    "  \\end{cases}\n",
    "$$\n",
    "$$ \\[ f(n) =\n",
    "  \\begin{cases}\n",
    "    x: (-\\inf;1] & \\\\\n",
    "    y: (1;+\\inf)  & \n",
    "  \\end{cases}\n",
    "$$"
   ],
   "cell_type": "markdown",
   "metadata": {}
  },
  {
   "source": [
    "* Найти производные 1-го порядка функции\n",
    "$$ z = (1 + \\frac{ln x}{ln y})^3 $$\n",
    "$$ z_x' = 3(1 + \\frac{ln x}{ln y})^2 * \\frac{1}{x} * \\frac{1}{ln y} $$\n",
    "$$ z_y' = 3(1 + \\frac{ln x}{ln y})^2 * ln(x) * y $$"
   ],
   "cell_type": "markdown",
   "metadata": {}
  },
  {
   "source": [
    "* Найти полный дифференциал функции в точке (1;1)\n",
    "$$ z= \\sqrt{2xy+cos\\frac{x}{y}} $$\n",
    "$$ z_x' = \\frac{1}{2\\sqrt{2xy + cos{\\frac{x}{y}}}} * 2y * (-sin(\\frac{x}{y}))$$\n",
    "$$ z_y' = \\frac{1}{2\\sqrt{2xy + cos{\\frac{x}{y}}}} * 2x * sin(\\frac{x}{y}) * \\frac{1}{y^2} $$\n",
    "$$ dW = (\\frac{1}{2\\sqrt{2xy + cos{\\frac{x}{y}}}} * 2y * (-sin(\\frac{x}{y})))dx + (\\frac{1}{2\\sqrt{2xy + cos{\\frac{x}{y}}}} * 2x * sin(\\frac{x}{y}) * \\frac{1}{y^2})dy $$\n",
    "$$ dW(1;1) = (- \\frac{sin(1)}{2\\sqrt{2 + cos(1)}})dx + (\\frac{sin(1)}{2y^2\\sqrt{2 + cos(1)}})dy $$"
   ],
   "cell_type": "markdown",
   "metadata": {}
  },
  {
   "source": [
    "* Исследовать на экстремум функцию\n",
    "$$ z = x^2 + xy + y^2 - 6x - 9y $$\n",
    "$$ \\[ f(n) =\n",
    "  \\begin{cases}\n",
    "    \\frac{dz}{dx} = 2x + y - 6 = 0 & \\\\\n",
    "    \\frac{dz}{dy} = x + 2y - 9 = 0  & \n",
    "  \\end{cases}\n",
    "$$\n",
    "$$ (2)\\ x = 9 - 2y$$\n",
    "$$ (1)\\ 2(9 - 2y) + y - 6 = 0 $$\n",
    "$$ (1)\\ 12 - 3y = 0,\\ y = 4 $$\n",
    "$$ (2)\\ x = 9 - 2*4 = 1 $$\n",
    "Критическая точка:\n",
    "$$ M(1; 4) $$\n",
    "Вторые частные производные:\n",
    "$$ \\frac{d_z^2}{d_x^2} = 2, \\frac{d_z^2}{d_x d_y} = 1, \\frac{d_z^2}{d_y^2} = 2 $$\n",
    "$$ \\Delta(M) = 2*2 - (1^2) = 3 $$\n",
    "\\Delta(M) > 0, следовательно точка M(1; 4) - минимум\n"
   ],
   "cell_type": "markdown",
   "metadata": {}
  }
 ]
}