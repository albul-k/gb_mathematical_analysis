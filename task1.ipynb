{
 "metadata": {
  "language_info": {
   "codemirror_mode": {
    "name": "ipython",
    "version": 3
   },
   "file_extension": ".py",
   "mimetype": "text/x-python",
   "name": "python",
   "nbconvert_exporter": "python",
   "pygments_lexer": "ipython3",
   "version": 3
  },
  "orig_nbformat": 2
 },
 "nbformat": 4,
 "nbformat_minor": 2,
 "cells": [
  {
   "source": [
    "## Тема 6 “Понятие о производной”"
   ],
   "cell_type": "markdown",
   "metadata": {}
  },
  {
   "source": [
    "1. Найти производную выражения\n",
    "$$ \\sqrt{sin^2(ln(x^3))} = \\frac{1}{2\\sqrt{sin^2(ln(x^3))}} * 2sin(ln(x^3)) * \\frac{1}{x^3} * 3x^2 $$"
   ],
   "cell_type": "markdown",
   "metadata": {}
  },
  {
   "source": [
    "2. Найти выражение производной функции и ее значение в точке\n",
    "$$ f(x) = cos(x^2 + 3x),x_0 = \\sqrt{\\pi} $$\n",
    "$$ y' = -sin(x^2 + 3x) * (2x + 3) $$\n",
    "$$ y'(\\sqrt{\\pi}) = -sin(\\pi + 3\\sqrt{\\pi}) * (2\\sqrt{\\pi} + 3) = -(sin(\\pi)*cos(3\\sqrt{\\pi}) + sin(3\\sqrt{\\pi})*cos(\\pi)) * (2\\sqrt{\\pi} + 3) = -(0 - sin(3\\sqrt{\\pi})) * (2\\sqrt{\\pi} + 3) = sin(3\\sqrt{\\pi}) * (2\\sqrt{\\pi} + 3) = 6sin(\\pi) + 9sin(\\sqrt{\\pi}) = 9sin(\\sqrt{\\pi}) $$"
   ],
   "cell_type": "markdown",
   "metadata": {}
  },
  {
   "source": [
    "3. Найти значение производной функции в точке\n",
    "$$ f(x) = \\frac{x^3-x^2-x-1}{1+2x+3x^2-4x^3},x_0=0 $$\n",
    "$$ y' = \\frac{(x^3-x^2-x-1)'(1+2x+3x^2-4x^3)-(x^3-x^2-x-1)(1+2x+3x^2-4x^3)'}{(1+2x+3x^2-4x^3)^2} = \\frac{(3x^2-2x-1)(1+2x+3x^2-4x^3)-(x^3-x^2-x-1)(2+6x-12x^2)}{(1+2x+3x^2-4x^3)^2} $$\n",
    "$$ y'(0) = \\frac{(0-0-1)(1+0+0-0)-(0-0-0-1)(2+0-0)}{(1+0+0-0)^2} = \\frac{-1+2}{1} = 1 $$"
   ],
   "cell_type": "markdown",
   "metadata": {}
  },
  {
   "source": [
    "4. Найти угол наклона касательной к графику функции в точке\n",
    "$$ f(x) = \\sqrt{3x} * ln(x),x_0 = 1 $$\n",
    "$$ y' = (\\frac{1}{2\\sqrt{3x}} * 3) * ln(x) + \\sqrt{3x}*\\frac{1}{x} $$\n",
    "$$ y'(1) = ((\\frac{1}{2\\sqrt{3}} * 3) * ln(1) + \\sqrt{3}*\\frac{1}{1}) = \\sqrt{3} $$"
   ],
   "cell_type": "markdown",
   "metadata": {}
  }
 ]
}