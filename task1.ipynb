{
 "metadata": {
  "language_info": {
   "codemirror_mode": {
    "name": "ipython",
    "version": 3
   },
   "file_extension": ".py",
   "mimetype": "text/x-python",
   "name": "python",
   "nbconvert_exporter": "python",
   "pygments_lexer": "ipython3",
   "version": "3.7.7-final"
  },
  "orig_nbformat": 2,
  "kernelspec": {
   "name": "python37764bit3fbe5ae206bf467f9f636d844c57ff6e",
   "display_name": "Python 3.7.7 64-bit",
   "language": "python"
  }
 },
 "nbformat": 4,
 "nbformat_minor": 2,
 "cells": [
  {
   "source": [
    "### Найти длину 𝑥 и ширину 𝑦 прямоугольника при заданном периметре 𝑃=144cм, при которых данный прямоугольник имеет наибольшую площадь 𝑆\n",
    "$$ S = x * y $$\n",
    "$$ P = 2(x + y),\\ y = \\frac{P}{2} - x $$\n",
    "$$ S = x(\\frac{P}{2} - x),\\ при\\ P=144,\\ S = x(72 - x) $$\n",
    "$$ S' = 72-2x $$\n",
    "$$ x_0 = \\frac{72}{2} = 36 $$\n",
    "\n",
    "Максимальная площадь прямоугольника при стороне x=36\n",
    "\n",
    "Вторая сторона y=(72 - 36) = 36"
   ],
   "cell_type": "markdown",
   "metadata": {}
  }
 ]
}