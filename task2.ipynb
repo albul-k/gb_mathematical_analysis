{
 "metadata": {
  "language_info": {
   "codemirror_mode": {
    "name": "ipython",
    "version": 3
   },
   "file_extension": ".py",
   "mimetype": "text/x-python",
   "name": "python",
   "nbconvert_exporter": "python",
   "pygments_lexer": "ipython3",
   "version": "3.7.7-final"
  },
  "orig_nbformat": 2,
  "kernelspec": {
   "name": "python3",
   "display_name": "Python 3"
  }
 },
 "nbformat": 4,
 "nbformat_minor": 2,
 "cells": [
  {
   "source": [
    "## Тема 3 “Последовательность”"
   ],
   "cell_type": "markdown",
   "metadata": {}
  },
  {
   "source": [
    "1. Даны 4 последовательности. Необходимо:\n",
    "- исследовать их на монотонность\n",
    "- исследовать на ограниченность\n",
    "- найти пятый по счету член\n",
    "\n",
    "![title](data\\2020-11-29_18-01-02.png)"
   ],
   "cell_type": "markdown",
   "metadata": {}
  },
  {
   "source": [
    "$$ \\{a_{n}\\}_{n=1}^\\infty = 2^n - n $$\n",
    "- возрастает\n",
    "$$ 1 \\leq 2^n - n < \\infty $$\n",
    "- 2^5 - 5 = 27"
   ],
   "cell_type": "markdown",
   "metadata": {}
  },
  {
   "source": [
    "$$ \\{b_{n}\\}_{n=2}^\\infty = \\frac{1}{1-n} $$\n",
    "\n",
    "- возрастает\n",
    "$$ -1 \\leq \\frac{1}{1-n} < 0 $$\n",
    "- 1 / (1 - 6) = -0.2"
   ],
   "cell_type": "markdown",
   "metadata": {}
  },
  {
   "source": [
    "$$ \\{c_{n}\\}_{n=1}^\\infty = -1^n + \\sqrt{2n} $$\n",
    "\n",
    "- возрастает\n",
    "$$ -1+\\sqrt{2} \\leq -1^n + \\sqrt{2n} < \\infty $$\n",
    "- (-1)^5 + sqrt(2*5) = -1 + 3.16 ~ 2.16\n"
   ],
   "cell_type": "markdown",
   "metadata": {}
  },
  {
   "source": [
    "$$ \\{d_{n}\\}_{n=1}^\\infty = (-1)^{2n} + \\frac{1}{n^2} $$\n",
    "\n",
    "- убывает\n",
    "$$ -1 < (-1)^{2n} + \\frac{1}{n^2} \\leq 0 $$\n",
    "- (-1)^5 + 1/5^2 = -1 + 1/25 = -0.96"
   ],
   "cell_type": "markdown",
   "metadata": {}
  },
  {
   "source": [
    "2. Найти 12-й член заданной неявно последовательности\n",
    "\n",
    "![title](data\\2020-11-29_18-06-20.png)"
   ],
   "cell_type": "markdown",
   "metadata": {}
  },
  {
   "source": [
    "- a1 = 128\n",
    "- a2 - a1 = 6 => a2 = 128 + 6 => a2 = 134\n",
    "- ...\n",
    "- a12 = 194"
   ],
   "cell_type": "markdown",
   "metadata": {}
  },
  {
   "source": [
    "3. *На языке Python предложить алгоритм вычисляющий численно предел с точностью\n",
    "\n",
    "![title](data\\2020-11-29_18-07-29.png)"
   ],
   "cell_type": "markdown",
   "metadata": {}
  },
  {
   "cell_type": "code",
   "execution_count": 25,
   "metadata": {},
   "outputs": [
    {
     "output_type": "stream",
     "name": "stdout",
     "text": [
      "E\n"
     ]
    }
   ],
   "source": [
    "from sympy import *\n",
    "n = symbols('n')\n",
    "r = limit(n/(root(factorial(n),n)), n, oo)\n",
    "print(r)"
   ]
  },
  {
   "cell_type": "code",
   "execution_count": null,
   "metadata": {
    "tags": []
   },
   "outputs": [],
   "source": [
    "# Вычисляет долго из-за последовательного перебора n\n",
    "\n",
    "import mpmath\n",
    "\n",
    "mpmath.mp.dps = 15\n",
    "mp.pretty = False\n",
    "\n",
    "eps = 0.0000001\n",
    "e = math.e\n",
    "n = 1\n",
    "while True:\n",
    "    _root = mpmath.root(mpmath.factorial(n), n)\n",
    "    r = mpmath.fdiv(n, _root)\n",
    "    if n % 100000 == 0:\n",
    "        print(f'n={n}\\tabs(e - r)={abs(e - r)}')\n",
    "    if abs(e - r) < eps:\n",
    "        print(n)\n",
    "        break\n",
    "    n += 1"
   ]
  },
  {
   "source": [
    "4. *Предложить оптимизацию алгоритма, полученного в задании 3, ускоряющую его сходимость"
   ],
   "cell_type": "markdown",
   "metadata": {}
  },
  {
   "cell_type": "code",
   "execution_count": 30,
   "metadata": {
    "tags": []
   },
   "outputs": [
    {
     "output_type": "stream",
     "name": "stdout",
     "text": [
      "i=10000\tn=285710922\tabs(e - r)=1.01364953764005e-7\n",
      "i=20000\tn=286210922\tabs(e - r)=1.01196175883445e-7\n",
      "i=30000\tn=286710922\tabs(e - r)=1.01027972654322e-7\n",
      "i=40000\tn=287210922\tabs(e - r)=1.00860340079834e-7\n",
      "i=50000\tn=287710922\tabs(e - r)=1.00693276383623e-7\n",
      "i=60000\tn=288210922\tabs(e - r)=1.00526778012977e-7\n",
      "i=70000\tn=288710922\tabs(e - r)=1.00360841859271e-7\n",
      "i=80000\tn=289210922\tabs(e - r)=1.00195465702058e-7\n",
      "i=90000\tn=289710922\tabs(e - r)=1.00030645988625e-7\n",
      "Done! i=91864\tn=289804122\tabs(e - r)=9.9999984737309e-8\n"
     ]
    }
   ],
   "source": [
    "import mpmath\n",
    "import math\n",
    "\n",
    "mpmath.mp.dps = 15\n",
    "mpmath.pretty = False\n",
    "\n",
    "eps = 0.0000001\n",
    "e = math.e\n",
    "i = n = n_prev = 1\n",
    "first_adjustment = False\n",
    "second_adjustment = False\n",
    "while True:\n",
    "    i += 1\n",
    "    _root = mpmath.root(mpmath.factorial(n), n)\n",
    "    r = mpmath.fdiv(n, _root)\n",
    "    \n",
    "    if i % 10000 == 0:\n",
    "        print(f'i={i}\\tn={n}\\tabs(e - r)={abs(e - r)}')\n",
    "    \n",
    "    if abs(e - r) < eps:\n",
    "        if second_adjustment:\n",
    "            print(f'Done! i={i}\\tn={n}\\tabs(e - r)={abs(e - r)}')\n",
    "            break\n",
    "        if first_adjustment is False:\n",
    "            first_adjustment = True\n",
    "        step = round((n - n_prev) / 2)\n",
    "        n -= step\n",
    "        continue\n",
    "    \n",
    "    if first_adjustment and abs(e - r) > eps:\n",
    "        second_adjustment = True\n",
    "        n += 50\n",
    "        continue\n",
    "    n_prev = n\n",
    "    n *= 2"
   ]
  },
  {
   "source": [
    "### Описание алгоритма\n",
    "\n",
    "Изначально n увеличивается квадратично и предел быстро достигает заданной точности.\n",
    "При этом в n последнее значение, при котором мы его вычислили, в n_prev предыдущее значение.\n",
    "Далее начинаем уменьшать n, беря среднее между n и n_prev, пока предел не выйдет из заданной точности.\n",
    "\n",
    "После этого, снова увеличиваем n, но уже с меньшим инкрементом (например, +50), пока снова не достигнем необходимой точности."
   ],
   "cell_type": "markdown",
   "metadata": {}
  }
 ]
}