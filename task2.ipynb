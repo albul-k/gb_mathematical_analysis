{
 "metadata": {
  "language_info": {
   "codemirror_mode": {
    "name": "ipython",
    "version": 3
   },
   "file_extension": ".py",
   "mimetype": "text/x-python",
   "name": "python",
   "nbconvert_exporter": "python",
   "pygments_lexer": "ipython3",
   "version": "3.7.7-final"
  },
  "orig_nbformat": 2,
  "kernelspec": {
   "name": "python3",
   "display_name": "Python 3"
  }
 },
 "nbformat": 4,
 "nbformat_minor": 2,
 "cells": [
  {
   "source": [
    "# Тема “Множество”"
   ],
   "cell_type": "markdown",
   "metadata": {}
  },
  {
   "source": [
    "### Даны три множества a,b и с. Необходимо выполнить все изученные виды бинарных операций над всеми комбинациями множеств."
   ],
   "cell_type": "markdown",
   "metadata": {}
  },
  {
   "cell_type": "code",
   "execution_count": 30,
   "metadata": {},
   "outputs": [
    {
     "output_type": "stream",
     "name": "stdout",
     "text": [
      "{'3', '2', '1'}\n{'3', '4', '2'}\n{'3', '4', '5'}\n"
     ]
    }
   ],
   "source": [
    "A = set('123')\n",
    "B = set('234')\n",
    "C = set('345')\n",
    "\n",
    "for itm in (A, B, C):\n",
    "    print(itm)"
   ]
  },
  {
   "source": [
    "### ИЛИ\n",
    "$$ | A \\cup B \\cup C | = |A| + |B| + |C| - |A \\cap B \\cap C| $$"
   ],
   "cell_type": "markdown",
   "metadata": {}
  },
  {
   "cell_type": "code",
   "execution_count": 31,
   "metadata": {},
   "outputs": [
    {
     "output_type": "execute_result",
     "data": {
      "text/plain": [
       "{'1', '2', '3', '4', '5'}"
      ]
     },
     "metadata": {},
     "execution_count": 31
    }
   ],
   "source": [
    "A | B | C"
   ]
  },
  {
   "source": [
    "### И\n",
    "$$ |A \\cap B \\cap C| $$"
   ],
   "cell_type": "markdown",
   "metadata": {}
  },
  {
   "cell_type": "code",
   "execution_count": 32,
   "metadata": {},
   "outputs": [
    {
     "output_type": "execute_result",
     "data": {
      "text/plain": [
       "{'3'}"
      ]
     },
     "metadata": {},
     "execution_count": 32
    }
   ],
   "source": [
    "A & B & C"
   ]
  },
  {
   "source": [
    "### Разность\n",
    "$$ | A \\setminus B \\setminus C | = |A| - |B| - |C| - |A \\cap B| - |A \\cap C| $$"
   ],
   "cell_type": "markdown",
   "metadata": {}
  },
  {
   "cell_type": "code",
   "execution_count": 33,
   "metadata": {},
   "outputs": [
    {
     "output_type": "execute_result",
     "data": {
      "text/plain": [
       "{'1'}"
      ]
     },
     "metadata": {},
     "execution_count": 33
    }
   ],
   "source": [
    "A - B - C"
   ]
  },
  {
   "source": [
    "### Симметрическая разность\n",
    "$$ | A \\bigtriangleup B \\bigtriangleup C | = |A| + |B| + |C| - 2|A \\cap B| - 2|A \\cap C|$$"
   ],
   "cell_type": "markdown",
   "metadata": {}
  },
  {
   "cell_type": "code",
   "execution_count": 34,
   "metadata": {},
   "outputs": [
    {
     "output_type": "execute_result",
     "data": {
      "text/plain": [
       "{'1', '3', '5'}"
      ]
     },
     "metadata": {},
     "execution_count": 34
    }
   ],
   "source": [
    "A ^ B ^ C"
   ]
  }
 ]
}