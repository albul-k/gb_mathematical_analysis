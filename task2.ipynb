{
 "metadata": {
  "language_info": {
   "codemirror_mode": {
    "name": "ipython",
    "version": 3
   },
   "file_extension": ".py",
   "mimetype": "text/x-python",
   "name": "python",
   "nbconvert_exporter": "python",
   "pygments_lexer": "ipython3",
   "version": 3
  },
  "orig_nbformat": 2
 },
 "nbformat": 4,
 "nbformat_minor": 2,
 "cells": [
  {
   "source": [
    "## Тема “Теоремы о пределах”"
   ],
   "cell_type": "markdown",
   "metadata": {}
  },
  {
   "source": [
    "1. Найти предел"
   ],
   "cell_type": "markdown",
   "metadata": {}
  },
  {
   "source": [
    "$$ \\lim\\limits_{x \\to 0}\\frac{sin(2x)}{4x} = \\frac{2}{4}\\frac{sin(x)}{x}=\\frac{1}{2}\\ (sin(x)\\sim x) $$\n",
    "$$ \\lim\\limits_{x \\to 0}\\frac{x}{sin(x)}=1\\ (sin(x)\\sim x)$$\n",
    "$$ \\lim\\limits_{x \\to 0}\\frac{x}{arcsin(x)}=1\\ (arcsin(x)\\sim x)$$"
   ],
   "cell_type": "markdown",
   "metadata": {}
  }
 ]
}