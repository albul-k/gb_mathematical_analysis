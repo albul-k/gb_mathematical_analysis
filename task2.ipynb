{
 "metadata": {
  "language_info": {
   "codemirror_mode": {
    "name": "ipython",
    "version": 3
   },
   "file_extension": ".py",
   "mimetype": "text/x-python",
   "name": "python",
   "nbconvert_exporter": "python",
   "pygments_lexer": "ipython3",
   "version": 3
  },
  "orig_nbformat": 2
 },
 "nbformat": 4,
 "nbformat_minor": 2,
 "cells": [
  {
   "source": [
    "## Тема 6 “Понятие о производной”"
   ],
   "cell_type": "markdown",
   "metadata": {}
  },
  {
   "source": [
    "1. Найти производную выражения\n",
    "$$ (ln(2x+1)^3)' = \\frac{3}{2x+1} * 2$$\n",
    "$$ \\bigg (\\sqrt{sin^2(ln(x^3))} \\bigg)' = \\frac{1}{2\\sqrt{sin^2(ln(x^3))}} * 2sin(ln(x^3)) * 2cos(ln(x^3)) * \\frac{1}{x^3} * 3x^2  $$\n",
    "$$ \\bigg (\\frac{x^4}{ln(x)} \\bigg )' = \\frac{(x^4)'*ln(x) - x^4*(ln(x))'}{ln(x)^2} = \\frac{3x^3*ln(x) - x^4*\\frac{1}{x}}{ln(x)^2} $$"
   ],
   "cell_type": "markdown",
   "metadata": {}
  }
 ]
}