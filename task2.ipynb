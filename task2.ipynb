{
 "metadata": {
  "language_info": {
   "codemirror_mode": {
    "name": "ipython",
    "version": 3
   },
   "file_extension": ".py",
   "mimetype": "text/x-python",
   "name": "python",
   "nbconvert_exporter": "python",
   "pygments_lexer": "ipython3",
   "version": "3.7.7-final"
  },
  "orig_nbformat": 2,
  "kernelspec": {
   "name": "python3",
   "display_name": "Python 3"
  }
 },
 "nbformat": 4,
 "nbformat_minor": 2,
 "cells": [
  {
   "source": [
    "## Тема 3 “Последовательность”"
   ],
   "cell_type": "markdown",
   "metadata": {}
  },
  {
   "source": [
    "1. Даны 4 последовательности. Необходимо:\n",
    "- исследовать их на монотонность\n",
    "- исследовать на ограниченность\n",
    "- найти пятый по счету член\n",
    "\n",
    "![title](data\\2020-11-29_18-01-02.png)"
   ],
   "cell_type": "markdown",
   "metadata": {}
  },
  {
   "source": [
    "$$ \\{a_{n}\\}_{n=1}^\\infty = 2^n - n $$\n",
    "- возрастает\n",
    "$$ 1 \\leq 2^n - n < \\infty $$\n",
    "- 2^5 - 5 = 27"
   ],
   "cell_type": "markdown",
   "metadata": {}
  },
  {
   "source": [
    "$$ \\{b_{n}\\}_{n=2}^\\infty = \\frac{1}{1-n} $$\n",
    "\n",
    "- возрастает\n",
    "$$ -1 \\leq \\frac{1}{1-n} < 0 $$\n",
    "- 1 / (1 - 6) = -0.2"
   ],
   "cell_type": "markdown",
   "metadata": {}
  },
  {
   "source": [
    "$$ \\{c_{n}\\}_{n=1}^\\infty = -1^n + \\sqrt{2n} $$\n",
    "\n",
    "- возрастает\n",
    "$$ -1+\\sqrt{2} \\leq -1^n + \\sqrt{2n} < \\infty $$\n",
    "- (-1)^5 + sqrt(2*5) = -1 + 3.16 ~ 2.16\n"
   ],
   "cell_type": "markdown",
   "metadata": {}
  },
  {
   "source": [
    "$$ \\{d_{n}\\}_{n=1}^\\infty = (-1)^{2n} + \\frac{1}{n^2} $$\n",
    "\n",
    "- убывает\n",
    "$$ -1 < (-1)^{2n} + \\frac{1}{n^2} \\leq 0 $$\n",
    "- (-1)^5 + 1/5^2 = -1 + 1/25 = -0.96"
   ],
   "cell_type": "markdown",
   "metadata": {}
  },
  {
   "source": [
    "2. Найти 12-й член заданной неявно последовательности\n",
    "\n",
    "![title](data\\2020-11-29_18-06-20.png)"
   ],
   "cell_type": "markdown",
   "metadata": {}
  },
  {
   "source": [
    "- a1 = 128\n",
    "- a2 - a1 = 6 => a2 = 128 + 6 => a2 = 134\n",
    "- ...\n",
    "- a12 = 194"
   ],
   "cell_type": "markdown",
   "metadata": {}
  },
  {
   "source": [
    "3. *На языке Python предложить алгоритм вычисляющий численно предел с точностью\n",
    "\n",
    "![title](data\\2020-11-29_18-07-29.png)"
   ],
   "cell_type": "markdown",
   "metadata": {}
  },
  {
   "cell_type": "code",
   "execution_count": 10,
   "metadata": {},
   "outputs": [
    {
     "output_type": "stream",
     "name": "stdout",
     "text": [
      "E\n"
     ]
    }
   ],
   "source": [
    "from sympy import *\n",
    "n = symbols('n')\n",
    "r = limit(n/(root(factorial(n),n)), n, oo)\n",
    "print(r)"
   ]
  },
  {
   "cell_type": "code",
   "execution_count": 21,
   "metadata": {},
   "outputs": [
    {
     "output_type": "stream",
     "name": "stdout",
     "text": [
      "2.6320853228463696\n"
     ]
    }
   ],
   "source": [
    "import math\n",
    "n = 100\n",
    "\n",
    "r = n/math.pow(math.factorial(n), 1/n)\n",
    "print(r)"
   ]
  },
  {
   "source": [
    "4. *Предложить оптимизацию алгоритма, полученного в задании 3, ускоряющую его сходимость"
   ],
   "cell_type": "markdown",
   "metadata": {}
  }
 ]
}